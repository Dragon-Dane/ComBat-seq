{
 "cells": [
  {
   "cell_type": "code",
   "execution_count": 1,
   "metadata": {},
   "outputs": [],
   "source": [
    "import os"
   ]
  },
  {
   "cell_type": "code",
   "execution_count": 2,
   "metadata": {},
   "outputs": [],
   "source": [
    "disp_levels = [1, 2, 3, 4, 5]\n",
    "confounding_levels = [0.5, 0.4, 0.3, 0.2, 0.1]"
   ]
  },
  {
   "cell_type": "code",
   "execution_count": 5,
   "metadata": {},
   "outputs": [
    {
     "name": "stdout",
     "output_type": "stream",
     "text": [
      "qsub -P combat -o logs/Disp1_Cnfnd5.txt -e logs/err_Disp1_Cnfnd5.txt -N Disp1_Cnfnd5 -cwd -b y -pe omp 8 Rscript sim_DEpipe_disp_confounding.R 1 0.5\n",
      "qsub -P combat -o logs/Disp1_Cnfnd4.txt -e logs/err_Disp1_Cnfnd4.txt -N Disp1_Cnfnd4 -cwd -b y -pe omp 8 Rscript sim_DEpipe_disp_confounding.R 1 0.4\n",
      "qsub -P combat -o logs/Disp1_Cnfnd3.txt -e logs/err_Disp1_Cnfnd3.txt -N Disp1_Cnfnd3 -cwd -b y -pe omp 8 Rscript sim_DEpipe_disp_confounding.R 1 0.3\n",
      "qsub -P combat -o logs/Disp1_Cnfnd2.txt -e logs/err_Disp1_Cnfnd2.txt -N Disp1_Cnfnd2 -cwd -b y -pe omp 8 Rscript sim_DEpipe_disp_confounding.R 1 0.2\n",
      "qsub -P combat -o logs/Disp1_Cnfnd1.txt -e logs/err_Disp1_Cnfnd1.txt -N Disp1_Cnfnd1 -cwd -b y -pe omp 8 Rscript sim_DEpipe_disp_confounding.R 1 0.1\n",
      "qsub -P combat -o logs/Disp2_Cnfnd5.txt -e logs/err_Disp2_Cnfnd5.txt -N Disp2_Cnfnd5 -cwd -b y -pe omp 8 Rscript sim_DEpipe_disp_confounding.R 2 0.5\n",
      "qsub -P combat -o logs/Disp2_Cnfnd4.txt -e logs/err_Disp2_Cnfnd4.txt -N Disp2_Cnfnd4 -cwd -b y -pe omp 8 Rscript sim_DEpipe_disp_confounding.R 2 0.4\n",
      "qsub -P combat -o logs/Disp2_Cnfnd3.txt -e logs/err_Disp2_Cnfnd3.txt -N Disp2_Cnfnd3 -cwd -b y -pe omp 8 Rscript sim_DEpipe_disp_confounding.R 2 0.3\n",
      "qsub -P combat -o logs/Disp2_Cnfnd2.txt -e logs/err_Disp2_Cnfnd2.txt -N Disp2_Cnfnd2 -cwd -b y -pe omp 8 Rscript sim_DEpipe_disp_confounding.R 2 0.2\n",
      "qsub -P combat -o logs/Disp2_Cnfnd1.txt -e logs/err_Disp2_Cnfnd1.txt -N Disp2_Cnfnd1 -cwd -b y -pe omp 8 Rscript sim_DEpipe_disp_confounding.R 2 0.1\n",
      "qsub -P combat -o logs/Disp3_Cnfnd5.txt -e logs/err_Disp3_Cnfnd5.txt -N Disp3_Cnfnd5 -cwd -b y -pe omp 8 Rscript sim_DEpipe_disp_confounding.R 3 0.5\n",
      "qsub -P combat -o logs/Disp3_Cnfnd4.txt -e logs/err_Disp3_Cnfnd4.txt -N Disp3_Cnfnd4 -cwd -b y -pe omp 8 Rscript sim_DEpipe_disp_confounding.R 3 0.4\n",
      "qsub -P combat -o logs/Disp3_Cnfnd3.txt -e logs/err_Disp3_Cnfnd3.txt -N Disp3_Cnfnd3 -cwd -b y -pe omp 8 Rscript sim_DEpipe_disp_confounding.R 3 0.3\n",
      "qsub -P combat -o logs/Disp3_Cnfnd2.txt -e logs/err_Disp3_Cnfnd2.txt -N Disp3_Cnfnd2 -cwd -b y -pe omp 8 Rscript sim_DEpipe_disp_confounding.R 3 0.2\n",
      "qsub -P combat -o logs/Disp3_Cnfnd1.txt -e logs/err_Disp3_Cnfnd1.txt -N Disp3_Cnfnd1 -cwd -b y -pe omp 8 Rscript sim_DEpipe_disp_confounding.R 3 0.1\n",
      "qsub -P combat -o logs/Disp4_Cnfnd5.txt -e logs/err_Disp4_Cnfnd5.txt -N Disp4_Cnfnd5 -cwd -b y -pe omp 8 Rscript sim_DEpipe_disp_confounding.R 4 0.5\n",
      "qsub -P combat -o logs/Disp4_Cnfnd4.txt -e logs/err_Disp4_Cnfnd4.txt -N Disp4_Cnfnd4 -cwd -b y -pe omp 8 Rscript sim_DEpipe_disp_confounding.R 4 0.4\n",
      "qsub -P combat -o logs/Disp4_Cnfnd3.txt -e logs/err_Disp4_Cnfnd3.txt -N Disp4_Cnfnd3 -cwd -b y -pe omp 8 Rscript sim_DEpipe_disp_confounding.R 4 0.3\n",
      "qsub -P combat -o logs/Disp4_Cnfnd2.txt -e logs/err_Disp4_Cnfnd2.txt -N Disp4_Cnfnd2 -cwd -b y -pe omp 8 Rscript sim_DEpipe_disp_confounding.R 4 0.2\n",
      "qsub -P combat -o logs/Disp4_Cnfnd1.txt -e logs/err_Disp4_Cnfnd1.txt -N Disp4_Cnfnd1 -cwd -b y -pe omp 8 Rscript sim_DEpipe_disp_confounding.R 4 0.1\n",
      "qsub -P combat -o logs/Disp5_Cnfnd5.txt -e logs/err_Disp5_Cnfnd5.txt -N Disp5_Cnfnd5 -cwd -b y -pe omp 8 Rscript sim_DEpipe_disp_confounding.R 5 0.5\n",
      "qsub -P combat -o logs/Disp5_Cnfnd4.txt -e logs/err_Disp5_Cnfnd4.txt -N Disp5_Cnfnd4 -cwd -b y -pe omp 8 Rscript sim_DEpipe_disp_confounding.R 5 0.4\n",
      "qsub -P combat -o logs/Disp5_Cnfnd3.txt -e logs/err_Disp5_Cnfnd3.txt -N Disp5_Cnfnd3 -cwd -b y -pe omp 8 Rscript sim_DEpipe_disp_confounding.R 5 0.3\n",
      "qsub -P combat -o logs/Disp5_Cnfnd2.txt -e logs/err_Disp5_Cnfnd2.txt -N Disp5_Cnfnd2 -cwd -b y -pe omp 8 Rscript sim_DEpipe_disp_confounding.R 5 0.2\n",
      "qsub -P combat -o logs/Disp5_Cnfnd1.txt -e logs/err_Disp5_Cnfnd1.txt -N Disp5_Cnfnd1 -cwd -b y -pe omp 8 Rscript sim_DEpipe_disp_confounding.R 5 0.1\n"
     ]
    }
   ],
   "source": [
    "for i in range(len(disp_levels)):\n",
    "    for j in range(len(confounding_levels)):\n",
    "        os.system(\"qsub -P combat -o logs/Disp\" + str(disp_levels[i]) + \"_Cnfnd\" + str(int(confounding_levels[j]*10)) + \".txt\" + \\\n",
    "                  \" -e logs/err_Disp\" + str(disp_levels[i]) + \"_Cnfnd\" + str(int(confounding_levels[j]*10)) + \".txt\" + \\\n",
    "                  \" -N Disp\" + str(disp_levels[i]) + \"_Cnfnd\" + str(int(confounding_levels[j]*10)) + \\\n",
    "                  \" -cwd -b y -pe omp 8 Rscript sim_DEpipe_disp_confounding.R \" + \\\n",
    "                  str(disp_levels[i]) + \" \" + str(confounding_levels[j]))"
   ]
  },
  {
   "cell_type": "code",
   "execution_count": null,
   "metadata": {},
   "outputs": [],
   "source": []
  }
 ],
 "metadata": {
  "kernelspec": {
   "display_name": "Python 3",
   "language": "python",
   "name": "python3"
  },
  "language_info": {
   "codemirror_mode": {
    "name": "ipython",
    "version": 3
   },
   "file_extension": ".py",
   "mimetype": "text/x-python",
   "name": "python",
   "nbconvert_exporter": "python",
   "pygments_lexer": "ipython3",
   "version": "3.7.0"
  }
 },
 "nbformat": 4,
 "nbformat_minor": 2
}
