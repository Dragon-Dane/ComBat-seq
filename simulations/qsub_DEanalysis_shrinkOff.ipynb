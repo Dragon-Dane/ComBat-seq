{
 "cells": [
  {
   "cell_type": "code",
   "execution_count": null,
   "metadata": {},
   "outputs": [],
   "source": [
    "import os"
   ]
  },
  {
   "cell_type": "code",
   "execution_count": null,
   "metadata": {},
   "outputs": [],
   "source": [
    "fc_vec = [1, 1.5, 2, 3]\n",
    "size_vec = [1, 10, 100, 1000]\n",
    "Nsample_vec = [10, 20, 40]\n",
    "design_vec = ['TRUE', 'FALSE']\n",
    "coverage_vec = [1, 5, 10, 20]"
   ]
  },
  {
   "cell_type": "code",
   "execution_count": null,
   "metadata": {},
   "outputs": [],
   "source": [
    "### Fold changes (FC)\n",
    "for i in range(len(fc_vec)):\n",
    "    os.system(\"qsub -P combat -l h_rt=72:00:00 -o logs/FC\" + str(i+1) + \".txt -e logs/err_FC\" + str(i+1) + \".txt \" + \\\n",
    "              \"-N reFC\" + str(i+1) + \" -cwd -b y -pe omp 8 \" + \\\n",
    "              \"/share/pkg/r/3.5.2/install/bin/Rscript sim_DEpipe_polyester.R \" + \\\n",
    "              \"FC 1.5 \" + str(fc_vec[i]) + \" 100 10 20 TRUE 5\")"
   ]
  },
  {
   "cell_type": "code",
   "execution_count": null,
   "metadata": {},
   "outputs": [],
   "source": [
    "## Dispersion differences (Disp)\n",
    "for i in range(len(size_vec)):\n",
    "    os.system(\"qsub -P combat -l h_rt=72:00:00 -o logs/Disp\" + str(i+1) + \".txt -e logs/err_Disp\" + str(i+1) + \".txt \" + \\\n",
    "              \"-N reDisp\" + str(i+1) + \" -cwd -b y -pe omp 8 \" + \\\n",
    "              \"/share/pkg/r/3.5.2/install/bin/Rscript sim_DEpipe_polyester.R \" + \\\n",
    "              \"Disp 1.5 1.5 \" + str(size_vec[i]) + \" 10 20 TRUE 5\")"
   ]
  },
  {
   "cell_type": "code",
   "execution_count": null,
   "metadata": {},
   "outputs": [],
   "source": [
    "## Study design (Design)\n",
    "for i in range(len(design_vec)):\n",
    "    os.system(\"qsub -P combat -l h_rt=72:00:00 -o logs/Design\" + str(i+1) + \".txt -e logs/err_Design\" + str(i+1) + \".txt \" + \\\n",
    "              \"-N reDesign\" + str(i+1) + \" -cwd -b y -pe omp 8 \" + \\\n",
    "              \"/share/pkg/r/3.5.2/install/bin/Rscript sim_DEpipe_polyester.R \" + \\\n",
    "              \"Design 1.5 1.5 100 10 20 \" + design_vec[i] + \" 5\")"
   ]
  },
  {
   "cell_type": "code",
   "execution_count": null,
   "metadata": {},
   "outputs": [],
   "source": [
    "## Number of samples (Nsample)\n",
    "for i in range(len(Nsample_vec)):\n",
    "    os.system(\"qsub -P combat -l h_rt=72:00:00 -o logs/Nsample\" + str(i+1) + \".txt -e logs/err_Nsample\" + str(i+1) + \".txt \" + \\\n",
    "              \"-N reNsample\" + str(i+1) + \" -cwd -b y -pe omp 8 \" + \\\n",
    "              \"/share/pkg/r/3.5.2/install/bin/Rscript sim_DEpipe_polyester.R \" + \\\n",
    "              \"Nsample 1.5 1.5 100 10 \" + str(Nsample_vec[i]) + \" TRUE 5\")"
   ]
  },
  {
   "cell_type": "code",
   "execution_count": null,
   "metadata": {},
   "outputs": [],
   "source": [
    "## Reads per gene (Depth)\n",
    "for i in range(len(coverage_vec)):\n",
    "    os.system(\"qsub -P combat -l h_rt=72:00:00 -o logs/Depth\" + str(i+1) + \".txt -e logs/err_Depth\" + str(i+1) + \".txt \" + \\\n",
    "              \"-N reDepth\" + str(i+1) + \" -cwd -b y -pe omp 8 \" + \\\n",
    "              \"/share/pkg/r/3.5.2/install/bin/Rscript sim_DEpipe_polyester.R \" + \\\n",
    "              \"Depth 1.5 1.5 100 10 20 TRUE \" + str(coverage_vec[i]))"
   ]
  },
  {
   "cell_type": "code",
   "execution_count": null,
   "metadata": {},
   "outputs": [],
   "source": []
  }
 ],
 "metadata": {
  "kernelspec": {
   "display_name": "Python 3",
   "language": "python",
   "name": "python3"
  },
  "language_info": {
   "codemirror_mode": {
    "name": "ipython",
    "version": 3
   },
   "file_extension": ".py",
   "mimetype": "text/x-python",
   "name": "python",
   "nbconvert_exporter": "python",
   "pygments_lexer": "ipython3",
   "version": "3.7.0"
  }
 },
 "nbformat": 4,
 "nbformat_minor": 2
}
